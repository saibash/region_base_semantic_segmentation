{
 "cells": [
  {
   "cell_type": "markdown",
   "metadata": {},
   "source": [
    "# **Welcome!**"
   ]
  },
  {
   "cell_type": "markdown",
   "metadata": {},
   "source": [
    "This document will help you to install all the requirements for the project Region-Based Edge Convolutions With Geometric Attributes for the Semantic Segmentation of Large-Scale 3-D Point Clouds, link: https://ieeexplore.ieee.org/stamp/stamp.jsp?arnumber=9103287\n",
    "\n",
    "author  : Jhonatan Contreras\n",
    "\n",
    "\n",
    "System requirements.\n",
    "- Anaconda &copy;\n",
    "https://docs.conda.io/projects/conda/en/latest/user-guide/install/linux.html\n",
    "- In kratos server load module: module load anaconda3/4.7.12\n",
    "- Clone the repository: https://gitlab.dlr.de/dw-bws/outdoor_semantic_segmentation\n",
    "\n",
    "### Create py36 enviroment:\n"
   ]
  },
  {
   "cell_type": "code",
   "execution_count": null,
   "metadata": {
    "scrolled": true
   },
   "outputs": [],
   "source": [
    "conda create --name py36_build --file spec-file_py36_build.txt"
   ]
  },
  {
   "cell_type": "code",
   "execution_count": null,
   "metadata": {
    "scrolled": false
   },
   "outputs": [],
   "source": [
    "%%bash\n",
    "source activate py36_build\n",
    "pip install git+https://github.com/pytorch/tnt.git@master\n",
    "pip install -r requirements_py36_build.txt\n"
   ]
  },
  {
   "cell_type": "code",
   "execution_count": null,
   "metadata": {},
   "outputs": [],
   "source": [
    "conda create --name py36 --file spec-file_py36.txt"
   ]
  },
  {
   "cell_type": "code",
   "execution_count": null,
   "metadata": {},
   "outputs": [],
   "source": [
    "%%bash\n",
    "source activate py36\n",
    "pip install git+https://github.com/pytorch/tnt.git@master\n",
    "pip install -r requirements_py36.txt\n"
   ]
  },
  {
   "cell_type": "markdown",
   "metadata": {},
   "source": [
    "## Compile source\n",
    "CONDAENV=YOUR_CONDA_ENVIRONMENT_LOCATION\n",
    "\n",
    "bash build.sh $CONDAENV\n",
    "\n",
    "For intance :  bash build.sh \"/home/cont_jh/anaconda3/envs/py36_build\""
   ]
  },
  {
   "cell_type": "markdown",
   "metadata": {
    "collapsed": true
   },
   "source": [
    "\n"
   ]
  },
  {
   "cell_type": "markdown",
   "metadata": {
    "scrolled": true
   },
   "source": [
    "### Create tensorflow enviroment:\n"
   ]
  },
  {
   "cell_type": "code",
   "execution_count": null,
   "metadata": {},
   "outputs": [],
   "source": [
    "conda create --name tf --file spec-file_tf.txt"
   ]
  },
  {
   "cell_type": "code",
   "execution_count": null,
   "metadata": {},
   "outputs": [],
   "source": [
    "%%bash\n",
    "source activate tf\n",
    "pip install -r requirements_tf.txt"
   ]
  },
  {
   "cell_type": "code",
   "execution_count": null,
   "metadata": {},
   "outputs": [],
   "source": []
  }
 ],
 "metadata": {
  "kernelspec": {
   "display_name": "Python 3",
   "language": "python",
   "name": "python3"
  },
  "language_info": {
   "codemirror_mode": {
    "name": "ipython",
    "version": 3
   },
   "file_extension": ".py",
   "mimetype": "text/x-python",
   "name": "python",
   "nbconvert_exporter": "python",
   "pygments_lexer": "ipython3",
   "version": "3.7.6"
  }
 },
 "nbformat": 4,
 "nbformat_minor": 4
}
